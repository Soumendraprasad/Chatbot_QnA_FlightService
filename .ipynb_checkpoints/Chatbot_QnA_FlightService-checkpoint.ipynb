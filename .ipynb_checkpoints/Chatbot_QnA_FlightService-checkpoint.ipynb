{
 "cells": [
  {
   "cell_type": "code",
   "execution_count": 20,
   "id": "99f9d640",
   "metadata": {},
   "outputs": [],
   "source": [
    "# importing Libraries\n",
    "\n",
    "from pathlib import Path\n",
    "import torch\n",
    "\n",
    "import pandas as pd\n",
    "import numpy as np\n",
    "\n",
    "\n",
    "from transformers import AutoTokenizer , GenerationConfig , TextStreamer , pipeline , TFAutoModelForQuestionAnswering\n",
    "import tensorflow as tf"
   ]
  },
  {
   "cell_type": "markdown",
   "id": "7b80b52e",
   "metadata": {},
   "source": [
    "# Preparing Our Data"
   ]
  },
  {
   "cell_type": "code",
   "execution_count": 21,
   "id": "4dae3bd7",
   "metadata": {},
   "outputs": [],
   "source": [
    "question_dir =Path('skyscanner')\n",
    "question_dir.mkdir(exist_ok=True , parents = True)\n",
    "\n",
    "# writing QnA Files\n",
    "\n",
    "def write_file (question , answer , file_path):\n",
    "    text = f\"\"\"\n",
    "Q: { question}\n",
    "A: {answer}\n",
    "\n",
    "\"\"\".strip()\n",
    "    with Path (question_dir / file_path).open(\"w\") as text_file:\n",
    "        text_file.write(text)"
   ]
  },
  {
   "cell_type": "code",
   "execution_count": 22,
   "id": "96ad8ab9",
   "metadata": {},
   "outputs": [],
   "source": [
    "write_file(\n",
    "    question = \"How do I search for flights on Skyscanner?\" ,\n",
    "    answer= \"\"\"To find flights on Skyscanner, input your departure and arrival information along with travel dates, and then click 'Search.' You'll be presented with a range of flight choices from different airlines and agencies. Utilize filters for further customization, select your preferred flight, and proceed to book directly through the provided options. Alternatively, you can use the 'Explore everywhere' feature to discover various destinations and their prices across multiple travel sites.\n",
    "    \"\"\".strip(),\n",
    " file_path = \"question_1.txt\",)"
   ]
  },
  {
   "cell_type": "code",
   "execution_count": 23,
   "id": "99190d90",
   "metadata": {},
   "outputs": [],
   "source": [
    "write_file(\n",
    "    question = \"How do I search for multiple destinations?\" ,\n",
    "    answer= \"\"\"\n",
    "For a multi-city search on Skyscanner, simply click the 'Multi-city' button at the start of your search. From there, you can input your desired travel dates, destinations, and additional flights. Although the price alert option isn't currently available for multi-city searches, the Skyscanner team is actively working on introducing this feature in the near future. To learn more about how to navigate this new feature, refer to the provided article. Skyscanner values user feedback to enhance their services, and you can share your thoughts by clicking the 'Contact Us' button below the article.\n",
    "    \"\"\".strip(),\n",
    " file_path = \"question_2.txt\",)"
   ]
  },
  {
   "cell_type": "code",
   "execution_count": 24,
   "id": "7f6a7c1f",
   "metadata": {},
   "outputs": [],
   "source": [
    "write_file(\n",
    "    question = \"How do I search for flights on Skyscanner?\" ,\n",
    "    answer= \"\"\"Skyscanner's default search setting is configured for return flights, but switching to one-way flights is straightforward. Whether you're using the website, mobile site, or app, you can easily search for one-way flights by choosing the 'one way' option located above the 'From' field, where you enter the departure airport. If you wish to revert to searching for return flights, you can do so by re-selecting the 'Return' option or by clicking within the return date field. This will allow you to resume searching for return flight options seamlessly. Skyscanner's user-friendly interface ensures a smooth transition between these search modes.\"\"\".strip(),\n",
    " file_path = \"question_3.txt\",)"
   ]
  },
  {
   "cell_type": "code",
   "execution_count": 25,
   "id": "af926fa2",
   "metadata": {},
   "outputs": [],
   "source": [
    "write_file(\n",
    "    question = \"What does it mean when I see ‘Non-protected transfers’ or ‘Self-transfer flight’ on Skyscanner?\" ,\n",
    "    answer= \"\"\"At Skyscanner, our aim is to enhance your travel experience to the fullest, and we recognize that achieving savings on flights contributes to happier travelers. When you initiate a flight search, we present a wide array of diverse options, all designed to ensure you receive the utmost value for your money. However, there's a significant caveat that deserves attention – and we've highlighted it for emphasis. A number of these more affordable choices do come with associated risks, which is why they are priced lower in the first place. Prior to finalizing your booking, our goal is to provide you with the necessary insights to comprehend the commitments you're making. While some of this information might seem intricate, we're committed to delivering the clearest explanations possible.\"\"\".strip(),\n",
    " file_path = \"question_4.txt\",)"
   ]
  },
  {
   "cell_type": "code",
   "execution_count": 26,
   "id": "e8ee33d6",
   "metadata": {},
   "outputs": [],
   "source": [
    "write_file(\n",
    "    question = \"How do I change my settings to english ?\" ,\n",
    "    answer= \"\"\"Skyscanner is proud to offer its website in over 30 languages, ensuring accessibility for a diverse global audience. To adjust the language setting on our desktop website, simply locate the flag icon in the top menu and click on it. From the ensuing drop-down list, select your desired language. If you wish to switch directly to English, be on the lookout for the 'Switch to English' button. For the mobile website, tap on the designated area, followed by the flag icon. A dropdown list will emerge, allowing you to select your preferred language. The 'Switch to English' button serves as a direct shortcut if you want to switch languages immediately. Within the Skyscanner app, access the language settings by navigating to the appropriate section. From there, select your desired language, enabling a seamless linguistic transition for your user experience.\"\"\".strip(),\n",
    " file_path = \"question_5.txt\",)"
   ]
  },
  {
   "cell_type": "code",
   "execution_count": 27,
   "id": "9f65b808",
   "metadata": {},
   "outputs": [],
   "source": [
    "write_file(\n",
    "    question = \"Why have I been blocked from accessing the Skyscanner website?\" ,\n",
    "    answer= \"\"\"Skyscanner's websites encounter a substantial volume of bot-driven scraping activity daily, which adversely impacts the quality of service we strive to offer. To counter this, we've implemented a bot-blocking solution designed to verify that users interact with the website in a conventional manner. At times, genuine users might find themselves incorrectly flagged as bots due to various potential reasons. These include scenarios such as utilizing a VPN that was blocked due to previous excessive bot traffic, navigating the site at an unusually rapid pace surpassing our rate limits, employing browser plugins that interfere with our website's user interaction, or utilizing an automated browser. If you find yourself blocked while using our services normally, kindly provide us with your IP address (which you can find at websites like http://www.whatismyip.com/), the specific website you were accessing (e.g., www.skyscanner.net), and the date/time when the issue occurred. You can share this information with us through the \"Contact Us\" button, and we'll promptly investigate and resolve the matter.\"\"\".strip(),\n",
    "file_path = \"question_6.txt\",)"
   ]
  },
  {
   "cell_type": "code",
   "execution_count": 28,
   "id": "e1282e23",
   "metadata": {},
   "outputs": [],
   "source": [
    "write_file(\n",
    "    question = \" When I get redirected to a provider’s website the currency is different?\" ,\n",
    "    answer= \"\"\"Skyscanner grants the flexibility to select your desired currency for price viewing and flight comparisons. However, some airline and travel agent websites might limit the currencies they display or accept for payment. Should these flights be visible on Skyscanner, booking them is typically feasible. It's important to consider that if you choose to pay for a flight in a currency differing from your bank or credit card issuer's, the currency conversion will be managed by them. This could involve an alternate exchange rate compared to Skyscanner's and potential commission charges. For accurate information on the applicable exchange rate, it's recommended to directly contact your bank, ensuring you're well-informed about potential discrepancies in currency conversion expenses.\"\"\".strip(),\n",
    " file_path = \"question_7.txt\",)"
   ]
  },
  {
   "cell_type": "code",
   "execution_count": 29,
   "id": "b224b888",
   "metadata": {},
   "outputs": [],
   "source": [
    "write_file(\n",
    "    question = \"Where is my booking confirmation?\" ,\n",
    "    answer= \"\"\"Following your travel purchase, a booking confirmation should be sent to you via email by the respective company. Do remember to check your spam/junk mail folder, as occasionally, these confirmations might end up there. If you're unable to locate the confirmation, consider reaching out to the company you made the purchase from to gather more information. To identify the appropriate contact, refer to the company name listed alongside the charge on your bank account.\"\"\".strip(),\n",
    " file_path = \"question_8.txt\",)"
   ]
  },
  {
   "cell_type": "code",
   "execution_count": 30,
   "id": "320a1319",
   "metadata": {},
   "outputs": [],
   "source": [
    "write_file(\n",
    "    question = \"Were you charged by an airline or travel agent?\" ,\n",
    "    answer= \"\"\"Our platform encompasses an extensive array of options, connecting you with thousands of travel agencies, airlines, hotels, and car rental companies, collectively referred to as our \"partners.\" In cases where you've been directed to a partner's website during your search or booking process, it's advisable to establish direct communication with them to address any specific concerns or queries you may have regarding your experience.\"\"\".strip(),\n",
    " file_path = \"question_9.txt\",)"
   ]
  },
  {
   "cell_type": "code",
   "execution_count": 31,
   "id": "b0349196",
   "metadata": {},
   "outputs": [],
   "source": [
    "write_file(\n",
    "    question = \"How do I contact customer service about my booking?\" ,\n",
    "    answer= \"\"\"If you need to contact, phone or email customer service about your booking, it's important first to know who you bought from. The best way to find out who you bought from is to check your confirmation email, or check your bank or card statement for a company name.There are 1000s of travel agencies, airlines, hotels and car hire companies that you can buy from through our site and app. We call them \"partners\". When you buy from them, they will take your payment (you'll see their name on your bank or credit card statement), contact you to confirm your booking, and provide any help or support you might need.If you bought from one of these partners, you'll need to contact them as they have all the info about your booking. We unfortunately don't have any access to bookings you made with them. You'll find their customer service contact number, email address and other ways to get in touch in your booking confirmation email. Alternatively, you can use the following link to find their contact details.\"\"\".strip(),\n",
    " file_path = \"question_10.txt\",)"
   ]
  },
  {
   "cell_type": "code",
   "execution_count": 32,
   "id": "4b0d5491",
   "metadata": {},
   "outputs": [],
   "source": [
    "write_file(\n",
    "    question = \" How do I find out if my booking has gone through?\" ,\n",
    "    answer= \"\"\"After making a booking with an airline or travel agent, they will typically send you a confirmation email and initiate the transaction charge on your card or bank account. Keep in mind that these confirmation emails might occasionally be redirected to your spam/junk mail folder, warranting a check there. If the confirmation is still elusive or if uncertainties persist, it's advisable to reach out to the selling company directly for comprehensive information about your booking. Our platform offers access to a diverse range of travel agencies, airlines, hotels, and car rental firms for your purchases, and in cases where you've transacted with these partners, direct contact with them is recommended, as they possess all the pertinent details regarding your booking.\"\"\".strip(),\n",
    " file_path = \"question_11.txt\",)"
   ]
  },
  {
   "cell_type": "code",
   "execution_count": 33,
   "id": "447fe464",
   "metadata": {},
   "outputs": [],
   "source": [
    "write_file(\n",
    "    question = \"How do I change or cancel my booking?\" ,\n",
    "    answer= \"\"\"For inquiries regarding changes, cancellations, refunds, and all aspects of your bookings, it's essential to directly contact the company from which you purchased your travel, as they hold the comprehensive information needed to assist you. Our platform provides access to a wide range of travel agencies, airlines, hotels, and car rental companies for your convenience. When you make a purchase from these travel partners through our site and app, they handle your payment (visible on your bank or credit card statement), confirm your booking, and offer necessary support. If your transaction involves these partners, reaching out to them is necessary, as they possess the booking details. It's important to note that we lack access to bookings made directly through them.\"\"\".strip(),\n",
    " file_path = \"question_12.txt\",)"
   ]
  },
  {
   "cell_type": "code",
   "execution_count": 34,
   "id": "0229aa54",
   "metadata": {},
   "outputs": [],
   "source": [
    "write_file(\n",
    "    question = \"Where is my booking confirmation?\" ,\n",
    "    answer= \"\"\"After purchasing your travel, you should receive a booking confirmation via email from the respective company. It's advisable to check your spam/junk mail folder, as occasionally these confirmations might be directed there. If you're still unable to locate the confirmation, reaching out to the purchasing company is recommended to gain clarity on the situation. To identify the appropriate contact, cross-reference the company name listed alongside the charge on your bank account, as this will guide you toward the right point of contact for resolution.\"\"\".strip(),\n",
    " file_path = \"question_13.txt\",)"
   ]
  },
  {
   "cell_type": "code",
   "execution_count": 35,
   "id": "4a042d33",
   "metadata": {},
   "outputs": [],
   "source": [
    "write_file(\n",
    "    question = \"Where can I view and manage the price alerts I have set up?\" ,\n",
    "    answer= \"\"\"To manage the price alerts you've set up, log in to your Skyscanner account. If you didn't initially create an account, follow the process and click 'forgotten your password?' on the account screen. On the desktop site, log in by clicking 'Log in' at the top; on the mobile site and app, tap and then tap 'Log in'. After logging in on desktop or mobile, access the 'Account' option to navigate to the Price Alert Management section. Here, you can view your active alerts, check the latest prices, initiate immediate searches, stop alerts, or create new ones. On the app, tap the top left corner, then 'Recent searches and Price Alerts' to effectively manage your alerts.\"\"\".strip(),\n",
    " file_path = \"question_14.txt\",)"
   ]
  },
  {
   "cell_type": "markdown",
   "id": "1df5abc7",
   "metadata": {},
   "source": [
    "# Modeling"
   ]
  },
  {
   "cell_type": "code",
   "execution_count": 36,
   "id": "f2764733",
   "metadata": {},
   "outputs": [
    {
     "name": "stderr",
     "output_type": "stream",
     "text": [
      "All PyTorch model weights were used when initializing TFDistilBertForQuestionAnswering.\n",
      "\n",
      "All the weights of TFDistilBertForQuestionAnswering were initialized from the PyTorch model.\n",
      "If your task is similar to the task the model of the checkpoint was trained on, you can already use TFDistilBertForQuestionAnswering for predictions without further training.\n"
     ]
    }
   ],
   "source": [
    "tokenizer = AutoTokenizer.from_pretrained(\"distilbert-base-uncased-distilled-squad\")\n",
    "model = TFAutoModelForQuestionAnswering.from_pretrained(\"distilbert-base-uncased-distilled-squad\")"
   ]
  },
  {
   "cell_type": "code",
   "execution_count": 40,
   "id": "bb7623f3",
   "metadata": {},
   "outputs": [
    {
     "name": "stdout",
     "output_type": "stream",
     "text": [
      "question:Why have I been blocked from accessing the Skyscanner website?\n",
      "Answer: excessive bot traffic\n"
     ]
    }
   ],
   "source": [
    "# context= \"For a multi-city search on Skyscanner, simply click the 'Multi-city' button at the start of your search. From there, you can input your desired travel dates, destinations, and additional flights. Although the price alert option isn't currently available for multi-city searches, the Skyscanner team is actively working on introducing this feature in the near future. To learn more about how to navigate this new feature, refer to the provided article. Skyscanner values user feedback to enhance their services, and you can share your thoughts by clicking the 'Contact Us' button below the article.\"\n",
    "# qn =[\"How do I search for multiple destinations?\"]\n",
    "\n",
    "\n",
    "context2=\"Skyscanner's websites encounter a substantial volume of bot-driven scraping activity daily, which adversely impacts the quality of service we strive to offer. To counter this, we've implemented a bot-blocking solution designed to verify that users interact with the website in a conventional manner. At times, genuine users might find themselves incorrectly flagged as bots due to various potential reasons. These include scenarios such as utilizing a VPN that was blocked due to previous excessive bot traffic, navigating the site at an unusually rapid pace surpassing our rate limits, employing browser plugins that interfere with our website's user interaction, or utilizing an automated browser. If you find yourself blocked while using our services normally, kindly provide us with your IP address (which you can find at websites like http://www.whatismyip.com/), the specific website you were accessing (e.g., www.skyscanner.net), and the date/time when the issue occurred. You can share this information with us through the 'Contact Us' button, and we'll promptly investigate and resolve the matter.\"\n",
    "qn= [\"Why have I been blocked from accessing the Skyscanner website?\"]\n",
    "\n",
    "for question in qn:\n",
    "    inputs = tokenizer(question,context2,add_special_tokens=True,return_tensors='tf')\n",
    "    input_ids=inputs[\"input_ids\"].numpy()[0]\n",
    "    \n",
    "    outputs = model(inputs)\n",
    "    answer_start_scores = outputs.start_logits\n",
    "    answer_end_scores = outputs.end_logits\n",
    "    \n",
    "    answer_start =tf.argmax(\n",
    "    answer_start_scores,axis=1).numpy()[0]\n",
    "    \n",
    "    answer_end = (tf.argmax(answer_end_scores,axis=1)+1).numpy()[0]\n",
    "    answer = tokenizer.convert_tokens_to_string(tokenizer.convert_ids_to_tokens(input_ids[answer_start:answer_end]))\n",
    "    print(f\"question:{question}\")\n",
    "    print(f\"Answer: {answer}\")\n",
    "    \n",
    "    "
   ]
  },
  {
   "cell_type": "code",
   "execution_count": null,
   "id": "abf3b837",
   "metadata": {},
   "outputs": [],
   "source": []
  },
  {
   "cell_type": "code",
   "execution_count": null,
   "id": "bcfe4998",
   "metadata": {},
   "outputs": [],
   "source": []
  },
  {
   "cell_type": "code",
   "execution_count": null,
   "id": "23803cea",
   "metadata": {},
   "outputs": [],
   "source": []
  },
  {
   "cell_type": "code",
   "execution_count": null,
   "id": "3ee4eadc",
   "metadata": {},
   "outputs": [],
   "source": []
  }
 ],
 "metadata": {
  "kernelspec": {
   "display_name": "Python 3 (ipykernel)",
   "language": "python",
   "name": "python3"
  },
  "language_info": {
   "codemirror_mode": {
    "name": "ipython",
    "version": 3
   },
   "file_extension": ".py",
   "mimetype": "text/x-python",
   "name": "python",
   "nbconvert_exporter": "python",
   "pygments_lexer": "ipython3",
   "version": "3.9.6"
  }
 },
 "nbformat": 4,
 "nbformat_minor": 5
}
