{
 "cells": [
  {
   "cell_type": "code",
   "execution_count": 1,
   "id": "99f9d640",
   "metadata": {},
   "outputs": [],
   "source": [
    "\n",
    "from transformers import AutoTokenizer , GenerationConfig , TextStreamer , pipeline , TFAutoModelForQuestionAnswering\n",
    "import tensorflow as tf"
   ]
  },
  {
   "cell_type": "code",
   "execution_count": 2,
   "id": "f2764733",
   "metadata": {},
   "outputs": [
    {
     "name": "stderr",
     "output_type": "stream",
     "text": [
      "All PyTorch model weights were used when initializing TFDistilBertForQuestionAnswering.\n",
      "\n",
      "All the weights of TFDistilBertForQuestionAnswering were initialized from the PyTorch model.\n",
      "If your task is similar to the task the model of the checkpoint was trained on, you can already use TFDistilBertForQuestionAnswering for predictions without further training.\n"
     ]
    }
   ],
   "source": [
    "tokenizer = AutoTokenizer.from_pretrained(\"distilbert-base-uncased-distilled-squad\")\n",
    "model = TFAutoModelForQuestionAnswering.from_pretrained(\"distilbert-base-uncased-distilled-squad\")"
   ]
  },
  {
   "cell_type": "code",
   "execution_count": 3,
   "id": "bb7623f3",
   "metadata": {},
   "outputs": [
    {
     "name": "stdout",
     "output_type": "stream",
     "text": [
      "question:How do I search for multiple destinations?\n",
      "Answer: simply click the ' multi - city ' button at the start of your search\n"
     ]
    }
   ],
   "source": [
    "context= \"For a multi-city search on Skyscanner, simply click the 'Multi-city' button at the start of your search. From there, you can input your desired travel dates, destinations, and additional flights. Although the price alert option isn't currently available for multi-city searches, the Skyscanner team is actively working on introducing this feature in the near future. To learn more about how to navigate this new feature, refer to the provided article. Skyscanner values user feedback to enhance their services, and you can share your thoughts by clicking the 'Contact Us' button below the article.\"\n",
    "qn =[\"How do I search for multiple destinations?\"]\n",
    "\n",
    "for question in qn:\n",
    "    inputs = tokenizer(question,context,add_special_tokens=True,return_tensors='tf')\n",
    "    input_ids=inputs[\"input_ids\"].numpy()[0]\n",
    "    \n",
    "    outputs = model(inputs)\n",
    "    answer_start_scores = outputs.start_logits\n",
    "    answer_end_scores = outputs.end_logits\n",
    "    \n",
    "    answer_start =tf.argmax(\n",
    "    answer_start_scores,axis=1).numpy()[0]\n",
    "    \n",
    "    answer_end = (tf.argmax(answer_end_scores,axis=1)+1).numpy()[0]\n",
    "    answer = tokenizer.convert_tokens_to_string(tokenizer.convert_ids_to_tokens(input_ids[answer_start:answer_end]))\n",
    "    print(f\"question:{question}\")\n",
    "    print(f\"Answer: {answer}\")\n",
    "    \n",
    "    "
   ]
  },
  {
   "cell_type": "code",
   "execution_count": null,
   "id": "78595381",
   "metadata": {},
   "outputs": [],
   "source": []
  }
 ],
 "metadata": {
  "kernelspec": {
   "display_name": "Python 3 (ipykernel)",
   "language": "python",
   "name": "python3"
  },
  "language_info": {
   "codemirror_mode": {
    "name": "ipython",
    "version": 3
   },
   "file_extension": ".py",
   "mimetype": "text/x-python",
   "name": "python",
   "nbconvert_exporter": "python",
   "pygments_lexer": "ipython3",
   "version": "3.9.6"
  }
 },
 "nbformat": 4,
 "nbformat_minor": 5
}
